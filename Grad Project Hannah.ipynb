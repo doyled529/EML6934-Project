{
 "cells": [
  {
   "cell_type": "code",
   "execution_count": 33,
   "id": "a9f6bb45",
   "metadata": {},
   "outputs": [],
   "source": [
    "import control as ct\n",
    "import numpy as np\n",
    "import matplotlib.pyplot as plt"
   ]
  },
  {
   "cell_type": "markdown",
   "id": "26f73ca2",
   "metadata": {},
   "source": [
    "The function ss creates a state space model of the system. A continuous time-invariant system will be used for this example (put in equations for xdot and ydot here)"
   ]
  },
  {
   "cell_type": "code",
   "execution_count": 2,
   "id": "404accf5",
   "metadata": {},
   "outputs": [],
   "source": [
    "A = np.matrix([[1, 0], [0, 0]])\n",
    "B = np.ones((2, 2))\n",
    "C = np.matrix([[0, 0], [0, 1]])\n",
    "D = np.eye(2,2)"
   ]
  },
  {
   "cell_type": "markdown",
   "id": "676030c4",
   "metadata": {},
   "source": [
    "This module has built in functions to easily determine the controllability and observability matrices of a system using the functions ct.ctrb and ct.obs."
   ]
  },
  {
   "cell_type": "code",
   "execution_count": 3,
   "id": "4e2d62ae",
   "metadata": {},
   "outputs": [
    {
     "data": {
      "text/latex": [
       "\\[\n",
       "\\left(\\begin{array}{rllrll|rllrll}\n",
       "1\\phantom{.}&\\hspace{-1em}&\\hspace{-1em}\\phantom{\\cdot}&0\\phantom{.}&\\hspace{-1em}&\\hspace{-1em}\\phantom{\\cdot}&1\\phantom{.}&\\hspace{-1em}&\\hspace{-1em}\\phantom{\\cdot}&1\\phantom{.}&\\hspace{-1em}&\\hspace{-1em}\\phantom{\\cdot}\\\\\n",
       "0\\phantom{.}&\\hspace{-1em}&\\hspace{-1em}\\phantom{\\cdot}&0\\phantom{.}&\\hspace{-1em}&\\hspace{-1em}\\phantom{\\cdot}&1\\phantom{.}&\\hspace{-1em}&\\hspace{-1em}\\phantom{\\cdot}&1\\phantom{.}&\\hspace{-1em}&\\hspace{-1em}\\phantom{\\cdot}\\\\\n",
       "\\hline\n",
       "0\\phantom{.}&\\hspace{-1em}&\\hspace{-1em}\\phantom{\\cdot}&0\\phantom{.}&\\hspace{-1em}&\\hspace{-1em}\\phantom{\\cdot}&1\\phantom{.}&\\hspace{-1em}&\\hspace{-1em}\\phantom{\\cdot}&0\\phantom{.}&\\hspace{-1em}&\\hspace{-1em}\\phantom{\\cdot}\\\\\n",
       "0\\phantom{.}&\\hspace{-1em}&\\hspace{-1em}\\phantom{\\cdot}&1\\phantom{.}&\\hspace{-1em}&\\hspace{-1em}\\phantom{\\cdot}&0\\phantom{.}&\\hspace{-1em}&\\hspace{-1em}\\phantom{\\cdot}&1\\phantom{.}&\\hspace{-1em}&\\hspace{-1em}\\phantom{\\cdot}\\\\\n",
       "\\end{array}\\right)\n",
       "\\]"
      ],
      "text/plain": [
       "<LinearIOSystem:sys[2]:['u[0]', 'u[1]']->['y[0]', 'y[1]']>"
      ]
     },
     "execution_count": 3,
     "metadata": {},
     "output_type": "execute_result"
    }
   ],
   "source": [
    "sys = ct.ss(A, B, C, D)\n",
    "sys"
   ]
  },
  {
   "cell_type": "code",
   "execution_count": 4,
   "id": "44133e8b",
   "metadata": {},
   "outputs": [
    {
     "data": {
      "text/plain": [
       "array([[1., 1., 1., 1.],\n",
       "       [1., 1., 0., 0.]])"
      ]
     },
     "execution_count": 4,
     "metadata": {},
     "output_type": "execute_result"
    }
   ],
   "source": [
    "controllability = ct.ctrb(A, B)\n",
    "controllability"
   ]
  },
  {
   "cell_type": "code",
   "execution_count": 5,
   "id": "4a6d8a9d",
   "metadata": {},
   "outputs": [
    {
     "data": {
      "text/plain": [
       "array([[0., 0.],\n",
       "       [0., 1.],\n",
       "       [0., 0.],\n",
       "       [0., 0.]])"
      ]
     },
     "execution_count": 5,
     "metadata": {},
     "output_type": "execute_result"
    }
   ],
   "source": [
    "observability = ct.obsv(A, C)\n",
    "observability"
   ]
  },
  {
   "cell_type": "markdown",
   "id": "4cdd2ff8",
   "metadata": {},
   "source": [
    "The controllability or observability Gramian can be found using the ct.gram function specifiying the system and type (controllability or observability) of Gramian desired."
   ]
  },
  {
   "cell_type": "code",
   "execution_count": 6,
   "id": "6638a23a",
   "metadata": {},
   "outputs": [
    {
     "ename": "ValueError",
     "evalue": "Oops, the system is unstable!",
     "output_type": "error",
     "traceback": [
      "\u001b[1;31m---------------------------------------------------------------------------\u001b[0m",
      "\u001b[1;31mValueError\u001b[0m                                Traceback (most recent call last)",
      "\u001b[1;32mC:\\Users\\HSWEAT~1\\AppData\\Local\\Temp/ipykernel_9736/1430884349.py\u001b[0m in \u001b[0;36m<module>\u001b[1;34m\u001b[0m\n\u001b[1;32m----> 1\u001b[1;33m \u001b[0mcontrollabilityGramian\u001b[0m \u001b[1;33m=\u001b[0m \u001b[0mct\u001b[0m\u001b[1;33m.\u001b[0m\u001b[0mgram\u001b[0m\u001b[1;33m(\u001b[0m\u001b[0msys\u001b[0m\u001b[1;33m,\u001b[0m \u001b[1;34m'c'\u001b[0m\u001b[1;33m)\u001b[0m\u001b[1;33m\u001b[0m\u001b[1;33m\u001b[0m\u001b[0m\n\u001b[0m\u001b[0;32m      2\u001b[0m \u001b[0mcontrollabilityGramian\u001b[0m\u001b[1;33m\u001b[0m\u001b[1;33m\u001b[0m\u001b[0m\n",
      "\u001b[1;32m~\\Anaconda3\\lib\\site-packages\\control\\statefbk.py\u001b[0m in \u001b[0;36mgram\u001b[1;34m(sys, type)\u001b[0m\n\u001b[0;32m    920\u001b[0m     \u001b[1;31m# or a method of the StateSpace class?\u001b[0m\u001b[1;33m\u001b[0m\u001b[1;33m\u001b[0m\u001b[0m\n\u001b[0;32m    921\u001b[0m     \u001b[1;32mif\u001b[0m \u001b[0mnp\u001b[0m\u001b[1;33m.\u001b[0m\u001b[0many\u001b[0m\u001b[1;33m(\u001b[0m\u001b[0mnp\u001b[0m\u001b[1;33m.\u001b[0m\u001b[0mlinalg\u001b[0m\u001b[1;33m.\u001b[0m\u001b[0meigvals\u001b[0m\u001b[1;33m(\u001b[0m\u001b[0msys\u001b[0m\u001b[1;33m.\u001b[0m\u001b[0mA\u001b[0m\u001b[1;33m)\u001b[0m\u001b[1;33m.\u001b[0m\u001b[0mreal\u001b[0m \u001b[1;33m>=\u001b[0m \u001b[1;36m0.0\u001b[0m\u001b[1;33m)\u001b[0m\u001b[1;33m:\u001b[0m\u001b[1;33m\u001b[0m\u001b[1;33m\u001b[0m\u001b[0m\n\u001b[1;32m--> 922\u001b[1;33m         \u001b[1;32mraise\u001b[0m \u001b[0mValueError\u001b[0m\u001b[1;33m(\u001b[0m\u001b[1;34m\"Oops, the system is unstable!\"\u001b[0m\u001b[1;33m)\u001b[0m\u001b[1;33m\u001b[0m\u001b[1;33m\u001b[0m\u001b[0m\n\u001b[0m\u001b[0;32m    923\u001b[0m \u001b[1;33m\u001b[0m\u001b[0m\n\u001b[0;32m    924\u001b[0m     \u001b[1;32mif\u001b[0m \u001b[0mtype\u001b[0m \u001b[1;33m==\u001b[0m \u001b[1;34m'c'\u001b[0m \u001b[1;32mor\u001b[0m \u001b[0mtype\u001b[0m \u001b[1;33m==\u001b[0m \u001b[1;34m'o'\u001b[0m\u001b[1;33m:\u001b[0m\u001b[1;33m\u001b[0m\u001b[1;33m\u001b[0m\u001b[0m\n",
      "\u001b[1;31mValueError\u001b[0m: Oops, the system is unstable!"
     ]
    }
   ],
   "source": [
    "controllabilityGramian = ct.gram(sys, 'c')\n",
    "controllabilityGramian"
   ]
  },
  {
   "cell_type": "code",
   "execution_count": 8,
   "id": "1d741a33",
   "metadata": {},
   "outputs": [
    {
     "data": {
      "text/latex": [
       "\\[\n",
       "\\left(\\begin{array}{rllrll|rllrll}\n",
       "1\\phantom{.}&\\hspace{-1em}&\\hspace{-1em}\\phantom{\\cdot}&0\\phantom{.}&\\hspace{-1em}&\\hspace{-1em}\\phantom{\\cdot}&1\\phantom{.}&\\hspace{-1em}&\\hspace{-1em}\\phantom{\\cdot}&1\\phantom{.}&\\hspace{-1em}&\\hspace{-1em}\\phantom{\\cdot}\\\\\n",
       "0\\phantom{.}&\\hspace{-1em}&\\hspace{-1em}\\phantom{\\cdot}&0\\phantom{.}&\\hspace{-1em}&\\hspace{-1em}\\phantom{\\cdot}&1\\phantom{.}&\\hspace{-1em}&\\hspace{-1em}\\phantom{\\cdot}&1\\phantom{.}&\\hspace{-1em}&\\hspace{-1em}\\phantom{\\cdot}\\\\\n",
       "\\hline\n",
       "0\\phantom{.}&\\hspace{-1em}&\\hspace{-1em}\\phantom{\\cdot}&0\\phantom{.}&\\hspace{-1em}&\\hspace{-1em}\\phantom{\\cdot}&1\\phantom{.}&\\hspace{-1em}&\\hspace{-1em}\\phantom{\\cdot}&0\\phantom{.}&\\hspace{-1em}&\\hspace{-1em}\\phantom{\\cdot}\\\\\n",
       "0\\phantom{.}&\\hspace{-1em}&\\hspace{-1em}\\phantom{\\cdot}&1\\phantom{.}&\\hspace{-1em}&\\hspace{-1em}\\phantom{\\cdot}&0\\phantom{.}&\\hspace{-1em}&\\hspace{-1em}\\phantom{\\cdot}&1\\phantom{.}&\\hspace{-1em}&\\hspace{-1em}\\phantom{\\cdot}\\\\\n",
       "\\end{array}\\right)\n",
       "\\]"
      ],
      "text/plain": [
       "<LinearIOSystem:sys[4]:['u[0]', 'u[1]']->['y[0]', 'y[1]']>"
      ]
     },
     "execution_count": 8,
     "metadata": {},
     "output_type": "execute_result"
    }
   ],
   "source": [
    "system = ct.ss(A, B, C, D)\n",
    "system"
   ]
  },
  {
   "cell_type": "markdown",
   "id": "3e6dbe63",
   "metadata": {},
   "source": [
    "Creating a transfer function can be accomplished by first defining the constant s using the following command"
   ]
  },
  {
   "cell_type": "code",
   "execution_count": 9,
   "id": "2ac16011",
   "metadata": {},
   "outputs": [
    {
     "data": {
      "text/latex": [
       "$$\\frac{s}{1}$$"
      ],
      "text/plain": [
       "TransferFunction(array([1, 0]), array([1]))"
      ]
     },
     "execution_count": 9,
     "metadata": {},
     "output_type": "execute_result"
    }
   ],
   "source": [
    "s = ct.TransferFunction.s\n",
    "s"
   ]
  },
  {
   "cell_type": "markdown",
   "id": "de604707",
   "metadata": {},
   "source": [
    "This can then be utilized to define a transfer function G(s)"
   ]
  },
  {
   "cell_type": "code",
   "execution_count": 10,
   "id": "95b522d6",
   "metadata": {},
   "outputs": [
    {
     "data": {
      "text/latex": [
       "$$\\frac{s + 1}{s^2 + 2 s + 1}$$"
      ],
      "text/plain": [
       "TransferFunction(array([1, 1]), array([1, 2, 1]))"
      ]
     },
     "execution_count": 10,
     "metadata": {},
     "output_type": "execute_result"
    }
   ],
   "source": [
    "G  = (s + 1)/(s**2 + 2*s + 1)\n",
    "G"
   ]
  },
  {
   "cell_type": "markdown",
   "id": "d7cdfdf1",
   "metadata": {},
   "source": [
    "For single input single output (SISO) systems, the transfer function of a simple system can be defined using the TransferFunction command and specifying the coefficients of the numerator and denominator."
   ]
  },
  {
   "cell_type": "code",
   "execution_count": 11,
   "id": "fb33510a",
   "metadata": {},
   "outputs": [
    {
     "data": {
      "text/latex": [
       "$$\\frac{2 s + 2}{s^2 + 2 s + 3}$$"
      ],
      "text/plain": [
       "TransferFunction(array([2, 2]), array([1, 2, 3]))"
      ]
     },
     "execution_count": 11,
     "metadata": {},
     "output_type": "execute_result"
    }
   ],
   "source": [
    "sys = ct.TransferFunction([2,2], [1, 2, 3])\n",
    "sys"
   ]
  },
  {
   "cell_type": "markdown",
   "id": "1104a735",
   "metadata": {},
   "source": [
    "The ct.poles and ct.zeros functions are used to determine the poles and zeros of the system. They can be used on both state space representations and transfer functions and return an array of the poles/zeros of the system."
   ]
  },
  {
   "cell_type": "code",
   "execution_count": 12,
   "id": "d17eed93",
   "metadata": {},
   "outputs": [
    {
     "name": "stdout",
     "output_type": "stream",
     "text": [
      "The poles of the state space system are [1.+0.j 0.+0.j]\n",
      "\n",
      "The poles of the transfer function G are [-1.+6.68896751e-09j -1.-6.68896751e-09j]\n"
     ]
    }
   ],
   "source": [
    "stateSpacePoles = ct.poles(system)\n",
    "print(f'The poles of the state space system are {stateSpacePoles}')\n",
    "\n",
    "transferFunctionPoles = ct.poles(G)\n",
    "print(f'\\nThe poles of the transfer function G are {transferFunctionPoles}')"
   ]
  },
  {
   "cell_type": "code",
   "execution_count": 13,
   "id": "a51f5500",
   "metadata": {},
   "outputs": [
    {
     "name": "stdout",
     "output_type": "stream",
     "text": [
      "The zeros of the state space system are [ 1.+0.j -1.+0.j]\n",
      "\n",
      "The zeros of the transfer function G are [-1.+0.j]\n"
     ]
    }
   ],
   "source": [
    "stateSpaceZeros = ct.zeros(system)\n",
    "print(f'The zeros of the state space system are {stateSpaceZeros}')\n",
    "\n",
    "transferFunctionZeros = ct.zeros(G)\n",
    "print(f'\\nThe zeros of the transfer function G are {transferFunctionZeros}')"
   ]
  },
  {
   "cell_type": "markdown",
   "id": "4bfb869e",
   "metadata": {},
   "source": [
    "The DC gain of the system can also be found using the ct.dcgaini command. Here we will multiply our transfer function G by a gain of 5 to highlight this."
   ]
  },
  {
   "cell_type": "code",
   "execution_count": 14,
   "id": "3c4da1a6",
   "metadata": {},
   "outputs": [
    {
     "name": "stdout",
     "output_type": "stream",
     "text": [
      "The DC gain of the system is 5.0\n"
     ]
    }
   ],
   "source": [
    "k = 5 # DC gain \n",
    "G = k * (s + 1)/(s**2 + 2*s + 1)\n",
    "gain = ct.dcgain(G)\n",
    "print(f'The DC gain of the system is {gain}')"
   ]
  },
  {
   "cell_type": "markdown",
   "id": "5e08f4b4",
   "metadata": {},
   "source": [
    "## Block Diagrams"
   ]
  },
  {
   "cell_type": "markdown",
   "id": "e1f729dc",
   "metadata": {},
   "source": [
    "### Series Interconnection "
   ]
  },
  {
   "cell_type": "markdown",
   "id": "42851869",
   "metadata": {},
   "source": [
    "The series command returns the series connection of two systems sys3=sys1 * sys2."
   ]
  },
  {
   "cell_type": "code",
   "execution_count": 47,
   "id": "32d7f2cf",
   "metadata": {},
   "outputs": [
    {
     "data": {
      "text/latex": [
       "$$\\frac{5 s^2 + 15 s + 10}{s^3 + 3 s^2 + 3 s + 1}$$"
      ],
      "text/plain": [
       "TransferFunction(array([ 5, 15, 10]), array([1, 3, 3, 1]))"
      ]
     },
     "execution_count": 47,
     "metadata": {},
     "output_type": "execute_result"
    }
   ],
   "source": [
    "H = (s + 2)/(s + 1)\n",
    "series = ct.series(G, H)\n",
    "series"
   ]
  },
  {
   "cell_type": "markdown",
   "id": "cade9322",
   "metadata": {},
   "source": [
    "### Paralllel Interconnection"
   ]
  },
  {
   "cell_type": "markdown",
   "id": "2b5dcb1d",
   "metadata": {},
   "source": [
    "The parallel command returns the parallel connection of two systems equivalent to sys3=sys1+sys2."
   ]
  },
  {
   "cell_type": "code",
   "execution_count": 49,
   "id": "00efdfce",
   "metadata": {},
   "outputs": [
    {
     "data": {
      "text/latex": [
       "$$\\frac{s^3 + 9 s^2 + 15 s + 7}{s^3 + 3 s^2 + 3 s + 1}$$"
      ],
      "text/plain": [
       "TransferFunction(array([ 1,  9, 15,  7]), array([1, 3, 3, 1]))"
      ]
     },
     "execution_count": 49,
     "metadata": {},
     "output_type": "execute_result"
    }
   ],
   "source": [
    "parallel = ct.parallel(G, H)\n",
    "parallel"
   ]
  },
  {
   "cell_type": "markdown",
   "id": "9efcd1b5",
   "metadata": {},
   "source": [
    "### Feedback Interconnection"
   ]
  },
  {
   "cell_type": "markdown",
   "id": "43ca856c",
   "metadata": {},
   "source": [
    "The feedback command gives the feedback interconnection between two I/O systems. The primary plant is sys1. The feedback plant is sys2 (often a feedback controller)."
   ]
  },
  {
   "cell_type": "code",
   "execution_count": 50,
   "id": "5298b0e7",
   "metadata": {},
   "outputs": [
    {
     "data": {
      "text/latex": [
       "$$\\frac{5 s^2 + 10 s + 5}{s^3 + 8 s^2 + 18 s + 11}$$"
      ],
      "text/plain": [
       "TransferFunction(array([ 5, 10,  5]), array([ 1,  8, 18, 11]))"
      ]
     },
     "execution_count": 50,
     "metadata": {},
     "output_type": "execute_result"
    }
   ],
   "source": [
    "feedback = ct.feedback(G, H, sign=-1) #the default is sign=-1 which is negative feedback\n",
    "feedback"
   ]
  },
  {
   "cell_type": "markdown",
   "id": "a3373ea0",
   "metadata": {},
   "source": [
    "## Frequency Domain Plotting"
   ]
  },
  {
   "cell_type": "markdown",
   "id": "aa45f926",
   "metadata": {},
   "source": [
    "### Bode Plot"
   ]
  },
  {
   "cell_type": "markdown",
   "id": "646a7139",
   "metadata": {},
   "source": [
    "The bode plot of the system can be plotted over a (optional) frequency range using the ct.bode command. It returns the magnitude ratio, phase lag, and frequency as well as the bode plot for a given transfer function."
   ]
  },
  {
   "cell_type": "code",
   "execution_count": 17,
   "id": "3cdf2c6f",
   "metadata": {},
   "outputs": [
    {
     "data": {
      "image/png": "[encoded data removed]",
      "text/plain": [
       "<Figure size 432x288 with 2 Axes>"
      ]
     },
     "metadata": {
      "needs_background": "light"
     },
     "output_type": "display_data"
    }
   ],
   "source": [
    "mag, phase, omega = ct.bode(G)"
   ]
  },
  {
   "cell_type": "markdown",
   "id": "33e105ec",
   "metadata": {},
   "source": [
    "The bode plot can be customized with several options including setting the x axis to units of Hz or changing the phase from degrees to radians."
   ]
  },
  {
   "cell_type": "code",
   "execution_count": 18,
   "id": "c1adec25",
   "metadata": {},
   "outputs": [
    {
     "data": {
      "image/png": "[encoded data removed]",
      "text/plain": [
       "<Figure size 432x288 with 2 Axes>"
      ]
     },
     "metadata": {
      "needs_background": "light"
     },
     "output_type": "display_data"
    }
   ],
   "source": [
    "mag, phase, omega = ct.bode(G, w, Hz=True, deg=False)"
   ]
  },
  {
   "cell_type": "markdown",
   "id": "51c9a21f",
   "metadata": {},
   "source": [
    "The freqresp command outputs the same information but does not plot it."
   ]
  },
  {
   "cell_type": "code",
   "execution_count": 19,
   "id": "fb0a2ff3",
   "metadata": {},
   "outputs": [],
   "source": [
    "w=linspace(0.1, 10, 30)\n",
    "mag, phase, omega = ct.freqresp(G, w)"
   ]
  },
  {
   "cell_type": "code",
   "execution_count": 20,
   "id": "ed40a994",
   "metadata": {},
   "outputs": [
    {
     "data": {
      "text/plain": [
       "array([4.99750187, 4.9973532 , 4.99719569, 4.99702882, 4.99685202,\n",
       "       4.99666471, 4.99646627, 4.99625604, 4.99603331, 4.99579735,\n",
       "       4.99554738, 4.99528255, 4.995002  , 4.99470479, 4.99438994,\n",
       "       4.9940564 , 4.99370307, 4.99332877, 4.99293227, 4.99251226,\n",
       "       4.99206735, 4.99159607, 4.99109687, 4.9905681 , 4.99000802,\n",
       "       4.98941478, 4.98878644, 4.98812094, 4.98741609, 4.98666958,\n",
       "       4.98587898, 4.9850417 , 4.98415501, 4.98321603, 4.9822217 ,\n",
       "       4.9811688 , 4.98005391, 4.97887343, 4.97762357, 4.97630028,\n",
       "       4.97489934, 4.97341624, 4.97184625, 4.97018438, 4.96842534,\n",
       "       4.96656358, 4.9645932 , 4.96250803, 4.96030153, 4.95796681,\n",
       "       4.95549664, 4.95288336, 4.95011894, 4.94719492, 4.94410239,\n",
       "       4.94083199, 4.93737387, 4.9337177 , 4.92985261, 4.92576722,\n",
       "       4.92144956, 4.9168871 , 4.91206673, 4.90697468, 4.9015966 ,\n",
       "       4.89591745, 4.88992153, 4.88359247, 4.87691319, 4.86986591,\n",
       "       4.86243212, 4.8545926 , 4.8463274 , 4.83761581, 4.82843643,\n",
       "       4.81876711, 4.808585  , 4.79786656, 4.78658756, 4.77472316,\n",
       "       4.76224787, 4.74913567, 4.73536   , 4.72089385, 4.70570983,\n",
       "       4.68978025, 4.67307715, 4.65557251, 4.63723824, 4.61804639,\n",
       "       4.59796922, 4.57697939, 4.55505008, 4.53215515, 4.50826935,\n",
       "       4.48336846, 4.45742952, 4.430431  , 4.40235301, 4.37317753,\n",
       "       4.34288857, 4.31147247, 4.27891799, 4.24521663, 4.21036276,\n",
       "       4.17435381, 4.13719047, 4.09887682, 4.05942051, 4.01883282,\n",
       "       3.9771288 , 3.9343273 , 3.89045105, 3.84552661, 3.79958439,\n",
       "       3.75265856, 3.70478698, 3.65601107, 3.60637561, 3.55592861,\n",
       "       3.50472105, 3.45280665, 3.40024158, 3.34708418, 3.29339464,\n",
       "       3.23923469, 3.18466725, 3.1297561 , 3.07456552, 3.01915997,\n",
       "       2.96360375, 2.90796068, 2.85229376, 2.79666493, 2.74113477,\n",
       "       2.68576223, 2.63060441, 2.57571638, 2.52115096, 2.46695859,\n",
       "       2.41318721, 2.3598821 , 2.30708587, 2.25483838, 2.20317667,\n",
       "       2.152135  , 2.10174483, 2.05203484, 2.00303099, 1.95475656,\n",
       "       1.90723222, 1.86047612, 1.81450396, 1.7693291 , 1.72496266,\n",
       "       1.68141362, 1.63868892, 1.5967936 , 1.55573089, 1.51550232,\n",
       "       1.47610785, 1.43754597, 1.3998138 , 1.36290722, 1.32682093,\n",
       "       1.2915486 , 1.25708291, 1.22341569, 1.19053798, 1.15844011,\n",
       "       1.12711179, 1.09654215, 1.06671988, 1.03763322, 1.00927004,\n",
       "       0.98161794, 0.95466423, 0.92839604, 0.90280032, 0.87786393,\n",
       "       0.85357363, 0.82991612, 0.80687812, 0.78444633, 0.76260751,\n",
       "       0.74134848, 0.72065615, 0.70051752, 0.68091973, 0.66185004,\n",
       "       0.64329588, 0.62524482, 0.60768462, 0.59060322, 0.57398874,\n",
       "       0.5578295 , 0.54211403, 0.52683106, 0.51196953, 0.4975186 ])"
      ]
     },
     "execution_count": 20,
     "metadata": {},
     "output_type": "execute_result"
    }
   ],
   "source": [
    "mag"
   ]
  },
  {
   "cell_type": "markdown",
   "id": "4e7bcee5",
   "metadata": {},
   "source": [
    "### Gain and Phase Margin and Crossover Frequencies"
   ]
  },
  {
   "cell_type": "markdown",
   "id": "0d523345",
   "metadata": {},
   "source": [
    "You can calculate the gain and phase margin and the associated crossover frequencies using the margin command."
   ]
  },
  {
   "cell_type": "code",
   "execution_count": 21,
   "id": "425d16e3",
   "metadata": {},
   "outputs": [
    {
     "name": "stdout",
     "output_type": "stream",
     "text": [
      "The gain margin is inf degrees with phase crossover frequency 4.8989794855663575.\n",
      "The phase margin is 101.5369590328155 with gain crossover frequency nan.\n"
     ]
    }
   ],
   "source": [
    "gm, pm, Wcg, Wcp = ct.margin(G)\n",
    "print(f\"The gain margin is {gm} degrees with phase crossover frequency {Wcp} rad/s.\")\n",
    "print(f\"The phase margin is {pm} with gain crossover frequency {Wcg}.\")"
   ]
  },
  {
   "cell_type": "markdown",
   "id": "5ea95157",
   "metadata": {},
   "source": [
    "### Nyquist Plot"
   ]
  },
  {
   "cell_type": "markdown",
   "id": "cc441ed5",
   "metadata": {},
   "source": [
    "The Nyquist plot for the system can also be plotted over an (optional) frequency range."
   ]
  },
  {
   "cell_type": "code",
   "execution_count": 67,
   "id": "68db5489",
   "metadata": {},
   "outputs": [
    {
     "data": {
      "text/plain": [
       "0"
      ]
     },
     "execution_count": 67,
     "metadata": {},
     "output_type": "execute_result"
    },
    {
     "data": {
      "image/png": "[encoded data removed]",
      "text/plain": [
       "<Figure size 432x288 with 1 Axes>"
      ]
     },
     "metadata": {
      "needs_background": "light"
     },
     "output_type": "display_data"
    }
   ],
   "source": [
    "ct.nyquist_plot(G)"
   ]
  },
  {
   "cell_type": "markdown",
   "id": "7332b1e3",
   "metadata": {},
   "source": [
    "## Time Domain Simulation"
   ]
  },
  {
   "cell_type": "markdown",
   "id": "5aa4a1b5",
   "metadata": {},
   "source": [
    "### Forced Response"
   ]
  },
  {
   "cell_type": "markdown",
   "id": "f0524da3",
   "metadata": {},
   "source": [
    "The ct.forced_response command simulates the output of a linear system. "
   ]
  },
  {
   "cell_type": "code",
   "execution_count": 68,
   "id": "5d6c167e",
   "metadata": {},
   "outputs": [
    {
     "data": {
      "text/plain": [
       "[<matplotlib.lines.Line2D at 0x227ed644700>]"
      ]
     },
     "execution_count": 68,
     "metadata": {},
     "output_type": "execute_result"
    },
    {
     "data": {
      "image/png": "[encoded data removed]",
      "text/plain": [
       "<Figure size 432x288 with 1 Axes>"
      ]
     },
     "metadata": {
      "needs_background": "light"
     },
     "output_type": "display_data"
    }
   ],
   "source": [
    "T=np.linspace(0, 10, 100)\n",
    "u=2\n",
    "X0=0 #if left blank, defaults to 0\n",
    "forced_T, forced_yout = ct.forced_response(G, T, u, X0)\n",
    "plt.plot(forced_T, forced_yout)"
   ]
  },
  {
   "cell_type": "markdown",
   "id": "33e85b2f",
   "metadata": {},
   "source": [
    "### Impulse Response"
   ]
  },
  {
   "cell_type": "markdown",
   "id": "ab471687",
   "metadata": {},
   "source": [
    "The ct.initial_response command gives the response of a linear system given initial conditions. If the system has multiple outputs, one may be selected, or if no selection is made, all outputs are given. Similar to forced response but with zero input."
   ]
  },
  {
   "cell_type": "code",
   "execution_count": 69,
   "id": "878de919",
   "metadata": {},
   "outputs": [
    {
     "data": {
      "text/plain": [
       "[<matplotlib.lines.Line2D at 0x227ed6a8820>]"
      ]
     },
     "execution_count": 69,
     "metadata": {},
     "output_type": "execute_result"
    },
    {
     "data": {
      "image/png": "[encoded data removed]",
      "text/plain": [
       "<Figure size 432x288 with 1 Axes>"
      ]
     },
     "metadata": {
      "needs_background": "light"
     },
     "output_type": "display_data"
    }
   ],
   "source": [
    "impulse_T, impulse_yout = ct.initial_response(G, T, X0) #yout is the response output\n",
    "plt.plot(impulse_T, impulse_yout)"
   ]
  },
  {
   "cell_type": "markdown",
   "id": "bbaa154c",
   "metadata": {},
   "source": [
    "### Step Response"
   ]
  },
  {
   "cell_type": "code",
   "execution_count": 66,
   "id": "63715954",
   "metadata": {},
   "outputs": [
    {
     "data": {
      "text/plain": [
       "[<matplotlib.lines.Line2D at 0x227ed552f70>]"
      ]
     },
     "execution_count": 66,
     "metadata": {},
     "output_type": "execute_result"
    },
    {
     "data": {
      "image/png": "[encoded data removed]",
      "text/plain": [
       "<Figure size 432x288 with 1 Axes>"
      ]
     },
     "metadata": {
      "needs_background": "light"
     },
     "output_type": "display_data"
    }
   ],
   "source": [
    "step_T, step_yout = ct.step_response(G, T, X0)\n",
    "plt.plot(step_T, step_yout)"
   ]
  },
  {
   "cell_type": "code",
   "execution_count": null,
   "id": "0789e554",
   "metadata": {},
   "outputs": [],
   "source": []
  }
 ],
 "metadata": {
  "kernelspec": {
   "display_name": "Python 3 (ipykernel)",
   "language": "python",
   "name": "python3"
  },
  "language_info": {
   "codemirror_mode": {
    "name": "ipython",
    "version": 3
   },
   "file_extension": ".py",
   "mimetype": "text/x-python",
   "name": "python",
   "nbconvert_exporter": "python",
   "pygments_lexer": "ipython3",
   "version": "3.9.7"
  }
 },
 "nbformat": 4,
 "nbformat_minor": 5
}
