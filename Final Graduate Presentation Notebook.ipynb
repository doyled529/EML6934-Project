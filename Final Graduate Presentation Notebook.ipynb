{
 "cells": [
  {
   "cell_type": "markdown",
   "metadata": {
    "tags": []
   },
   "source": [
    "# `python-control` Module"
   ]
  },
  {
   "cell_type": "markdown",
   "metadata": {
    "tags": []
   },
   "source": [
    "### Group: Gabriela Abadia, Devin Doyle, Hannah Sweatland"
   ]
  },
  {
   "cell_type": "markdown",
   "metadata": {},
   "source": [
    "The `python-control` package is a set of python classes and functions that implement common operations for the analysis and design of feedback control systems. It also uses `numpy` and `scipy` modules.\n",
    "\n",
    "https://python-control.readthedocs.io/en/0.9.2/intro.html"
   ]
  },
  {
   "cell_type": "code",
   "execution_count": 1,
   "metadata": {},
   "outputs": [],
   "source": [
    "import control as ct\n",
    "import numpy as np\n",
    "import matplotlib.pyplot as plt"
   ]
  },
  {
   "cell_type": "markdown",
   "metadata": {
    "tags": []
   },
   "source": [
    "## State Space Models"
   ]
  },
  {
   "cell_type": "markdown",
   "metadata": {},
   "source": [
    "The function `ct.ss()` creates a state space model of the system. A continuous linear time-invariant (LTI) system will be used for this example. When you print the system, you will recieve an output that states the type of system, number of inputs/outputs, number of states, and the values of the variables (A, B, C, D) in the system. "
   ]
  },
  {
   "cell_type": "code",
   "execution_count": 2,
   "metadata": {},
   "outputs": [
    {
     "name": "stdout",
     "output_type": "stream",
     "text": [
      "<LinearIOSystem>: sys[2]\n",
      "Inputs (1): ['u[0]']\n",
      "Outputs (1): ['y[0]']\n",
      "States (1): ['x[0]']\n",
      "\n",
      "A = [[-4.]]\n",
      "\n",
      "B = [[3.]]\n",
      "\n",
      "C = [[1.]]\n",
      "\n",
      "D = [[0.]]\n",
      "\n"
     ]
    }
   ],
   "source": [
    "A = -4\n",
    "B = 3\n",
    "C = 1\n",
    "D = 0\n",
    "sys = ct.ss(A, B, C, D)\n",
    "print(sys)"
   ]
  },
  {
   "cell_type": "markdown",
   "metadata": {},
   "source": [
    "You can also simply type the name of the system to display it in matrix form."
   ]
  },
  {
   "cell_type": "code",
   "execution_count": 3,
   "metadata": {},
   "outputs": [
    {
     "data": {
      "text/latex": [
       "\\[\n",
       "\\left(\\begin{array}{rll|rll}\n",
       "-4\\phantom{.}&\\hspace{-1em}&\\hspace{-1em}\\phantom{\\cdot}&3\\phantom{.}&\\hspace{-1em}&\\hspace{-1em}\\phantom{\\cdot}\\\\\n",
       "\\hline\n",
       "1\\phantom{.}&\\hspace{-1em}&\\hspace{-1em}\\phantom{\\cdot}&0\\phantom{.}&\\hspace{-1em}&\\hspace{-1em}\\phantom{\\cdot}\\\\\n",
       "\\end{array}\\right)\n",
       "\\]"
      ],
      "text/plain": [
       "<LinearIOSystem:sys[2]:['u[0]']->['y[0]']>"
      ]
     },
     "execution_count": 3,
     "metadata": {},
     "output_type": "execute_result"
    }
   ],
   "source": [
    "sys"
   ]
  },
  {
   "cell_type": "markdown",
   "metadata": {
    "tags": []
   },
   "source": [
    "## Transfer Functions"
   ]
  },
  {
   "cell_type": "markdown",
   "metadata": {},
   "source": [
    "Creating a transfer function can be accomplished by first defining the constant s using the following command"
   ]
  },
  {
   "cell_type": "code",
   "execution_count": 4,
   "metadata": {},
   "outputs": [
    {
     "data": {
      "text/latex": [
       "$$\\frac{s}{1}$$"
      ],
      "text/plain": [
       "TransferFunction(array([1, 0]), array([1]))"
      ]
     },
     "execution_count": 4,
     "metadata": {},
     "output_type": "execute_result"
    }
   ],
   "source": [
    "s = ct.TransferFunction.s\n",
    "s"
   ]
  },
  {
   "cell_type": "markdown",
   "metadata": {},
   "source": [
    "This can then be utilized to define a transfer function G(s)"
   ]
  },
  {
   "cell_type": "code",
   "execution_count": 5,
   "metadata": {},
   "outputs": [
    {
     "data": {
      "text/latex": [
       "$$\\frac{s + 1}{s^2 + 2 s + 1}$$"
      ],
      "text/plain": [
       "TransferFunction(array([1, 1]), array([1, 2, 1]))"
      ]
     },
     "execution_count": 5,
     "metadata": {},
     "output_type": "execute_result"
    }
   ],
   "source": [
    "G  = (s + 1)/(s**2 + 2*s + 1)\n",
    "G"
   ]
  },
  {
   "cell_type": "markdown",
   "metadata": {},
   "source": [
    "For single input single output (SISO) systems, the transfer function of a simple system can be defined using the TransferFunction command and specifying the coefficients of the numerator and denominator. "
   ]
  },
  {
   "cell_type": "code",
   "execution_count": 6,
   "metadata": {},
   "outputs": [
    {
     "data": {
      "text/latex": [
       "$$\\frac{2 s + 2}{s^2 + 2 s + 3}$$"
      ],
      "text/plain": [
       "TransferFunction(array([2, 2]), array([1, 2, 3]))"
      ]
     },
     "execution_count": 6,
     "metadata": {},
     "output_type": "execute_result"
    }
   ],
   "source": [
    "TF = ct.TransferFunction([2,2], [1, 2, 3])\n",
    "TF"
   ]
  },
  {
   "cell_type": "markdown",
   "metadata": {
    "tags": []
   },
   "source": [
    "## Controllability and Observability Matrices"
   ]
  },
  {
   "cell_type": "markdown",
   "metadata": {},
   "source": [
    "This module has built in functions to easily determine the controllability and observability matrices of a system using the functions `ct.ctrb()` and `ct.obs()`. "
   ]
  },
  {
   "cell_type": "code",
   "execution_count": 7,
   "metadata": {},
   "outputs": [
    {
     "data": {
      "text/plain": [
       "array([[3.]])"
      ]
     },
     "execution_count": 7,
     "metadata": {},
     "output_type": "execute_result"
    }
   ],
   "source": [
    "controllability = ct.ctrb(A, B)\n",
    "controllability"
   ]
  },
  {
   "cell_type": "code",
   "execution_count": 8,
   "metadata": {},
   "outputs": [
    {
     "data": {
      "text/plain": [
       "array([[1.]])"
      ]
     },
     "execution_count": 8,
     "metadata": {},
     "output_type": "execute_result"
    }
   ],
   "source": [
    "observability = ct.obsv(A, C)\n",
    "observability"
   ]
  },
  {
   "cell_type": "markdown",
   "metadata": {
    "tags": []
   },
   "source": [
    "## Controllability and Observability Gramians"
   ]
  },
  {
   "cell_type": "markdown",
   "metadata": {},
   "source": [
    "The controllability or observability Gramian can be found using the `ct.gram()` function specifiying the system and type (controllability or observability) of Gramian desired. It is important to note here that using a transfer function model will result in a ValueError as seen below."
   ]
  },
  {
   "cell_type": "code",
   "execution_count": 9,
   "metadata": {},
   "outputs": [
    {
     "ename": "ValueError",
     "evalue": "System must be StateSpace!",
     "output_type": "error",
     "traceback": [
      "\u001b[0;31m---------------------------------------------------------------------------\u001b[0m",
      "\u001b[0;31mValueError\u001b[0m                                Traceback (most recent call last)",
      "\u001b[0;32m/var/folders/2h/s6kky2_13j9b41gbg95j7m5r_34t_b/T/ipykernel_61148/4221627245.py\u001b[0m in \u001b[0;36m<cell line: 1>\u001b[0;34m()\u001b[0m\n\u001b[0;32m----> 1\u001b[0;31m \u001b[0mct\u001b[0m\u001b[0;34m.\u001b[0m\u001b[0mgram\u001b[0m\u001b[0;34m(\u001b[0m\u001b[0mG\u001b[0m\u001b[0;34m,\u001b[0m \u001b[0;34m'c'\u001b[0m\u001b[0;34m)\u001b[0m\u001b[0;34m\u001b[0m\u001b[0;34m\u001b[0m\u001b[0m\n\u001b[0m",
      "\u001b[0;32m/opt/anaconda3/lib/python3.8/site-packages/control/statefbk.py\u001b[0m in \u001b[0;36mgram\u001b[0;34m(sys, type)\u001b[0m\n\u001b[1;32m    905\u001b[0m     \u001b[0;31m# Check for ss system object\u001b[0m\u001b[0;34m\u001b[0m\u001b[0;34m\u001b[0m\u001b[0;34m\u001b[0m\u001b[0m\n\u001b[1;32m    906\u001b[0m     \u001b[0;32mif\u001b[0m \u001b[0;32mnot\u001b[0m \u001b[0misinstance\u001b[0m\u001b[0;34m(\u001b[0m\u001b[0msys\u001b[0m\u001b[0;34m,\u001b[0m \u001b[0mstatesp\u001b[0m\u001b[0;34m.\u001b[0m\u001b[0mStateSpace\u001b[0m\u001b[0;34m)\u001b[0m\u001b[0;34m:\u001b[0m\u001b[0;34m\u001b[0m\u001b[0;34m\u001b[0m\u001b[0m\n\u001b[0;32m--> 907\u001b[0;31m         \u001b[0;32mraise\u001b[0m \u001b[0mValueError\u001b[0m\u001b[0;34m(\u001b[0m\u001b[0;34m\"System must be StateSpace!\"\u001b[0m\u001b[0;34m)\u001b[0m\u001b[0;34m\u001b[0m\u001b[0;34m\u001b[0m\u001b[0m\n\u001b[0m\u001b[1;32m    908\u001b[0m     \u001b[0;32mif\u001b[0m \u001b[0mtype\u001b[0m \u001b[0;32mnot\u001b[0m \u001b[0;32min\u001b[0m \u001b[0;34m[\u001b[0m\u001b[0;34m'c'\u001b[0m\u001b[0;34m,\u001b[0m \u001b[0;34m'o'\u001b[0m\u001b[0;34m,\u001b[0m \u001b[0;34m'cf'\u001b[0m\u001b[0;34m,\u001b[0m \u001b[0;34m'of'\u001b[0m\u001b[0;34m]\u001b[0m\u001b[0;34m:\u001b[0m\u001b[0;34m\u001b[0m\u001b[0;34m\u001b[0m\u001b[0m\n\u001b[1;32m    909\u001b[0m         \u001b[0;32mraise\u001b[0m \u001b[0mValueError\u001b[0m\u001b[0;34m(\u001b[0m\u001b[0;34m\"That type is not supported!\"\u001b[0m\u001b[0;34m)\u001b[0m\u001b[0;34m\u001b[0m\u001b[0;34m\u001b[0m\u001b[0m\n",
      "\u001b[0;31mValueError\u001b[0m: System must be StateSpace!"
     ]
    }
   ],
   "source": [
    "ct.gram(G, 'c')"
   ]
  },
  {
   "cell_type": "markdown",
   "metadata": {},
   "source": [
    "The gramian function will only take a state space respresentation of the model. Furthermore, the system must be stable in order for the Gramian to be computed as seen in the value error below."
   ]
  },
  {
   "cell_type": "code",
   "execution_count": 10,
   "metadata": {},
   "outputs": [
    {
     "ename": "ValueError",
     "evalue": "Oops, the system is unstable!",
     "output_type": "error",
     "traceback": [
      "\u001b[0;31m---------------------------------------------------------------------------\u001b[0m",
      "\u001b[0;31mValueError\u001b[0m                                Traceback (most recent call last)",
      "\u001b[0;32m/var/folders/2h/s6kky2_13j9b41gbg95j7m5r_34t_b/T/ipykernel_61148/721946853.py\u001b[0m in \u001b[0;36m<cell line: 2>\u001b[0;34m()\u001b[0m\n\u001b[1;32m      1\u001b[0m \u001b[0munstableSystem\u001b[0m \u001b[0;34m=\u001b[0m \u001b[0mct\u001b[0m\u001b[0;34m.\u001b[0m\u001b[0mss\u001b[0m\u001b[0;34m(\u001b[0m\u001b[0;36m4\u001b[0m\u001b[0;34m,\u001b[0m \u001b[0;34m-\u001b[0m\u001b[0;36m3\u001b[0m\u001b[0;34m,\u001b[0m \u001b[0;36m1\u001b[0m\u001b[0;34m,\u001b[0m \u001b[0;36m0\u001b[0m\u001b[0;34m)\u001b[0m\u001b[0;34m\u001b[0m\u001b[0;34m\u001b[0m\u001b[0m\n\u001b[0;32m----> 2\u001b[0;31m \u001b[0mct\u001b[0m\u001b[0;34m.\u001b[0m\u001b[0mgram\u001b[0m\u001b[0;34m(\u001b[0m\u001b[0munstableSystem\u001b[0m\u001b[0;34m,\u001b[0m\u001b[0;34m'c'\u001b[0m\u001b[0;34m)\u001b[0m\u001b[0;34m\u001b[0m\u001b[0;34m\u001b[0m\u001b[0m\n\u001b[0m",
      "\u001b[0;32m/opt/anaconda3/lib/python3.8/site-packages/control/statefbk.py\u001b[0m in \u001b[0;36mgram\u001b[0;34m(sys, type)\u001b[0m\n\u001b[1;32m    920\u001b[0m     \u001b[0;31m# or a method of the StateSpace class?\u001b[0m\u001b[0;34m\u001b[0m\u001b[0;34m\u001b[0m\u001b[0;34m\u001b[0m\u001b[0m\n\u001b[1;32m    921\u001b[0m     \u001b[0;32mif\u001b[0m \u001b[0mnp\u001b[0m\u001b[0;34m.\u001b[0m\u001b[0many\u001b[0m\u001b[0;34m(\u001b[0m\u001b[0mnp\u001b[0m\u001b[0;34m.\u001b[0m\u001b[0mlinalg\u001b[0m\u001b[0;34m.\u001b[0m\u001b[0meigvals\u001b[0m\u001b[0;34m(\u001b[0m\u001b[0msys\u001b[0m\u001b[0;34m.\u001b[0m\u001b[0mA\u001b[0m\u001b[0;34m)\u001b[0m\u001b[0;34m.\u001b[0m\u001b[0mreal\u001b[0m \u001b[0;34m>=\u001b[0m \u001b[0;36m0.0\u001b[0m\u001b[0;34m)\u001b[0m\u001b[0;34m:\u001b[0m\u001b[0;34m\u001b[0m\u001b[0;34m\u001b[0m\u001b[0m\n\u001b[0;32m--> 922\u001b[0;31m         \u001b[0;32mraise\u001b[0m \u001b[0mValueError\u001b[0m\u001b[0;34m(\u001b[0m\u001b[0;34m\"Oops, the system is unstable!\"\u001b[0m\u001b[0;34m)\u001b[0m\u001b[0;34m\u001b[0m\u001b[0;34m\u001b[0m\u001b[0m\n\u001b[0m\u001b[1;32m    923\u001b[0m \u001b[0;34m\u001b[0m\u001b[0m\n\u001b[1;32m    924\u001b[0m     \u001b[0;32mif\u001b[0m \u001b[0mtype\u001b[0m \u001b[0;34m==\u001b[0m \u001b[0;34m'c'\u001b[0m \u001b[0;32mor\u001b[0m \u001b[0mtype\u001b[0m \u001b[0;34m==\u001b[0m \u001b[0;34m'o'\u001b[0m\u001b[0;34m:\u001b[0m\u001b[0;34m\u001b[0m\u001b[0;34m\u001b[0m\u001b[0m\n",
      "\u001b[0;31mValueError\u001b[0m: Oops, the system is unstable!"
     ]
    }
   ],
   "source": [
    "unstableSystem = ct.ss(4, -3, 1, 0)\n",
    "ct.gram(unstableSystem,'c')"
   ]
  },
  {
   "cell_type": "markdown",
   "metadata": {},
   "source": [
    "Using the stable LTI system defined earlier, you can successfully compute both the controllability and observability Gramians."
   ]
  },
  {
   "cell_type": "code",
   "execution_count": 11,
   "metadata": {},
   "outputs": [
    {
     "name": "stdout",
     "output_type": "stream",
     "text": [
      "The controllability Gramian is: [[1.125]]\n"
     ]
    }
   ],
   "source": [
    "controllabilityGramian = ct.gram(sys, 'c')\n",
    "print(f'The controllability Gramian is: {controllabilityGramian}')"
   ]
  },
  {
   "cell_type": "code",
   "execution_count": 12,
   "metadata": {},
   "outputs": [
    {
     "name": "stdout",
     "output_type": "stream",
     "text": [
      "The observability Gramian is: [[0.125]]\n"
     ]
    }
   ],
   "source": [
    "observabilityGramian = ct.gram(sys, 'o')\n",
    "print(f'The observability Gramian is: {observabilityGramian}')"
   ]
  },
  {
   "cell_type": "markdown",
   "metadata": {
    "tags": []
   },
   "source": [
    "## Poles,  Zeros, and Gain"
   ]
  },
  {
   "cell_type": "markdown",
   "metadata": {},
   "source": [
    "The `ct.poles()` and `ct.zeros()` functions are used to determine the poles and zeros of the system. They can be used on both state space representations and transfer functions and return an array of the poles/zeros of the system."
   ]
  },
  {
   "cell_type": "code",
   "execution_count": 13,
   "metadata": {},
   "outputs": [
    {
     "name": "stdout",
     "output_type": "stream",
     "text": [
      "The poles of the state space system are [-4.+0.j]\n",
      "\n",
      "The poles of the transfer function G are [-1.+6.68896751e-09j -1.-6.68896751e-09j]\n"
     ]
    }
   ],
   "source": [
    "stateSpacePoles = ct.poles(sys)\n",
    "print(f'The poles of the state space system are {stateSpacePoles}')\n",
    "\n",
    "transferFunctionPoles = ct.poles(G)\n",
    "print(f'\\nThe poles of the transfer function G are {transferFunctionPoles}')"
   ]
  },
  {
   "cell_type": "code",
   "execution_count": 14,
   "metadata": {},
   "outputs": [
    {
     "name": "stdout",
     "output_type": "stream",
     "text": [
      "The zeros of the state space system are []\n",
      "\n",
      "The zeros of the transfer function G are [-1.+0.j]\n"
     ]
    }
   ],
   "source": [
    "stateSpaceZeros = ct.zeros(sys)\n",
    "print(f'The zeros of the state space system are {stateSpaceZeros}')\n",
    "\n",
    "transferFunctionZeros = ct.zeros(G)\n",
    "print(f'\\nThe zeros of the transfer function G are {transferFunctionZeros}')"
   ]
  },
  {
   "cell_type": "markdown",
   "metadata": {},
   "source": [
    "The DC gain of the system can also be found using the `ct.dcgain()` command. Here we will multiply our transfer function G by a gain of 5 to highlight this."
   ]
  },
  {
   "cell_type": "code",
   "execution_count": 15,
   "metadata": {},
   "outputs": [
    {
     "name": "stdout",
     "output_type": "stream",
     "text": [
      "The DC gain of the system is 5.0\n"
     ]
    }
   ],
   "source": [
    "k = 5 # DC gain \n",
    "G = k * (s + 1)/(s**2 + 2*s + 1)\n",
    "gain = ct.dcgain(G)\n",
    "print(f'The DC gain of the system is {gain}')"
   ]
  },
  {
   "cell_type": "markdown",
   "metadata": {
    "tags": []
   },
   "source": [
    "## Block Diagrams"
   ]
  },
  {
   "cell_type": "markdown",
   "metadata": {},
   "source": [
    "### Series Interconnection "
   ]
  },
  {
   "cell_type": "markdown",
   "metadata": {},
   "source": [
    "The series command returns the series connection of two systems sys3=sys1 * sys2."
   ]
  },
  {
   "cell_type": "code",
   "execution_count": 16,
   "metadata": {},
   "outputs": [
    {
     "data": {
      "text/latex": [
       "$$\\frac{5 s^2 + 15 s + 10}{s^3 + 3 s^2 + 3 s + 1}$$"
      ],
      "text/plain": [
       "TransferFunction(array([ 5, 15, 10]), array([1, 3, 3, 1]))"
      ]
     },
     "execution_count": 16,
     "metadata": {},
     "output_type": "execute_result"
    }
   ],
   "source": [
    "H = (s + 2)/(s + 1)\n",
    "series = ct.series(G, H)\n",
    "series"
   ]
  },
  {
   "cell_type": "markdown",
   "metadata": {},
   "source": [
    "### Parallel Interconnection"
   ]
  },
  {
   "cell_type": "markdown",
   "metadata": {},
   "source": [
    "The parallel command returns the parallel connection of two systems equivalent to sys3=sys1+sys2."
   ]
  },
  {
   "cell_type": "code",
   "execution_count": 17,
   "metadata": {},
   "outputs": [
    {
     "data": {
      "text/latex": [
       "$$\\frac{s^3 + 9 s^2 + 15 s + 7}{s^3 + 3 s^2 + 3 s + 1}$$"
      ],
      "text/plain": [
       "TransferFunction(array([ 1,  9, 15,  7]), array([1, 3, 3, 1]))"
      ]
     },
     "execution_count": 17,
     "metadata": {},
     "output_type": "execute_result"
    }
   ],
   "source": [
    "parallel = ct.parallel(G, H)\n",
    "parallel"
   ]
  },
  {
   "cell_type": "markdown",
   "metadata": {},
   "source": [
    "### Feedback Interconnection"
   ]
  },
  {
   "cell_type": "markdown",
   "metadata": {},
   "source": [
    "The feedback command gives the feedback interconnection between two I/O systems. The primary plant is sys1. The feedback plant is sys2 (often a feedback controller)."
   ]
  },
  {
   "cell_type": "code",
   "execution_count": 18,
   "metadata": {},
   "outputs": [
    {
     "data": {
      "text/latex": [
       "$$\\frac{5 s^2 + 10 s + 5}{s^3 + 8 s^2 + 18 s + 11}$$"
      ],
      "text/plain": [
       "TransferFunction(array([ 5, 10,  5]), array([ 1,  8, 18, 11]))"
      ]
     },
     "execution_count": 18,
     "metadata": {},
     "output_type": "execute_result"
    }
   ],
   "source": [
    "feedback = ct.feedback(G, H, sign=-1) #the default is sign=-1 which is negative feedback\n",
    "feedback"
   ]
  },
  {
   "cell_type": "markdown",
   "metadata": {
    "tags": []
   },
   "source": [
    "## Frequency Domain Plotting"
   ]
  },
  {
   "cell_type": "markdown",
   "metadata": {},
   "source": [
    "### Bode Plot"
   ]
  },
  {
   "cell_type": "markdown",
   "metadata": {},
   "source": [
    "The bode plot of the system can be plotted over a (optional) frequency range using the `ct.bode()` command. It returns the magnitude ratio, phase lag, and frequency as well as the bode plot for a given transfer function."
   ]
  },
  {
   "cell_type": "code",
   "execution_count": 19,
   "metadata": {},
   "outputs": [
    {
     "data": {
      "image/png": "[encoded data removed]",
      "text/plain": [
       "<Figure size 640x480 with 2 Axes>"
      ]
     },
     "metadata": {},
     "output_type": "display_data"
    }
   ],
   "source": [
    "mag, phase, omega = ct.bode(G)"
   ]
  },
  {
   "cell_type": "markdown",
   "metadata": {},
   "source": [
    "The bode plot can be customized with several options including setting the x axis to units of Hz or changing the phase from degrees to radians."
   ]
  },
  {
   "cell_type": "code",
   "execution_count": 20,
   "metadata": {},
   "outputs": [
    {
     "data": {
      "image/png": "[encoded data removed]",
      "text/plain": [
       "<Figure size 640x480 with 2 Axes>"
      ]
     },
     "metadata": {},
     "output_type": "display_data"
    }
   ],
   "source": [
    "mag, phase, omega = ct.bode(G, Hz=True, deg=False)"
   ]
  },
  {
   "cell_type": "markdown",
   "metadata": {},
   "source": [
    "The `ct.freqresp()` command outputs the same information but does not plot it."
   ]
  },
  {
   "cell_type": "code",
   "execution_count": 21,
   "metadata": {},
   "outputs": [],
   "source": [
    "w=np.linspace(0.1, 10, 30)\n",
    "mag, phase, omega = ct.freqresp(G, w)"
   ]
  },
  {
   "cell_type": "code",
   "execution_count": 22,
   "metadata": {},
   "outputs": [
    {
     "data": {
      "text/plain": [
       "array([4.97518595, 4.57424629, 3.93723849, 3.32324151, 2.81819165,\n",
       "       2.42112294, 2.1100448 , 1.86359928, 1.66530203, 1.50317593,\n",
       "       1.36861839, 1.25541173, 1.15900313, 1.07600761, 1.00386895,\n",
       "       0.94062763, 0.88476022, 0.83506672, 0.79059045, 0.75056023,\n",
       "       0.71434804, 0.68143763, 0.65140098, 0.62388038, 0.59857466,\n",
       "       0.57522855, 0.55362431, 0.53357513, 0.51491981, 0.4975186 ])"
      ]
     },
     "execution_count": 22,
     "metadata": {},
     "output_type": "execute_result"
    }
   ],
   "source": [
    "mag"
   ]
  },
  {
   "cell_type": "markdown",
   "metadata": {},
   "source": [
    "### Nyquist Plot"
   ]
  },
  {
   "cell_type": "markdown",
   "metadata": {},
   "source": [
    "The Nyquist plot for the system can also be plotted over an (optional) frequency range."
   ]
  },
  {
   "cell_type": "code",
   "execution_count": 23,
   "metadata": {},
   "outputs": [
    {
     "data": {
      "text/plain": [
       "0"
      ]
     },
     "execution_count": 23,
     "metadata": {},
     "output_type": "execute_result"
    },
    {
     "data": {
      "image/png": "[encoded data removed]",
      "text/plain": [
       "<Figure size 640x480 with 1 Axes>"
      ]
     },
     "metadata": {},
     "output_type": "display_data"
    }
   ],
   "source": [
    "ct.nyquist_plot(G)"
   ]
  },
  {
   "cell_type": "markdown",
   "metadata": {
    "tags": []
   },
   "source": [
    "## Time Domain Simulation"
   ]
  },
  {
   "cell_type": "markdown",
   "metadata": {},
   "source": [
    "### Forced Response"
   ]
  },
  {
   "cell_type": "markdown",
   "metadata": {},
   "source": [
    "The `ct.forced_response()` command simulates the output of a linear system. "
   ]
  },
  {
   "cell_type": "code",
   "execution_count": 24,
   "metadata": {},
   "outputs": [
    {
     "data": {
      "image/png": "[encoded data removed]",
      "text/plain": [
       "<Figure size 640x480 with 1 Axes>"
      ]
     },
     "metadata": {},
     "output_type": "display_data"
    }
   ],
   "source": [
    "T=np.linspace(0, 10, 100)\n",
    "u=2\n",
    "X0=0 #if left blank, defaults to 0\n",
    "forced_T, forced_yout = ct.forced_response(G, T, u, X0)\n",
    "plt.plot(forced_T, forced_yout);"
   ]
  },
  {
   "cell_type": "markdown",
   "metadata": {},
   "source": [
    "### Impulse Response"
   ]
  },
  {
   "cell_type": "markdown",
   "metadata": {},
   "source": [
    "The `ct.initial_response()` command gives the response of a linear system given initial conditions. If the system has multiple outputs, one may be selected, or if no selection is made, all outputs are given. Similar to forced response but with zero input."
   ]
  },
  {
   "cell_type": "code",
   "execution_count": 25,
   "metadata": {},
   "outputs": [
    {
     "data": {
      "image/png": "[encoded data removed]",
      "text/plain": [
       "<Figure size 640x480 with 1 Axes>"
      ]
     },
     "metadata": {},
     "output_type": "display_data"
    }
   ],
   "source": [
    "impulse_T, impulse_yout = ct.initial_response(G, T, X0) #yout is the response output\n",
    "plt.plot(impulse_T, impulse_yout);"
   ]
  },
  {
   "cell_type": "markdown",
   "metadata": {},
   "source": [
    "### Step Response"
   ]
  },
  {
   "cell_type": "code",
   "execution_count": 26,
   "metadata": {},
   "outputs": [
    {
     "data": {
      "image/png": "[encoded data removed]",
      "text/plain": [
       "<Figure size 640x480 with 1 Axes>"
      ]
     },
     "metadata": {},
     "output_type": "display_data"
    }
   ],
   "source": [
    "step_T, step_yout = ct.step_response(G, T, X0)\n",
    "plt.plot(step_T, step_yout);"
   ]
  },
  {
   "cell_type": "markdown",
   "metadata": {
    "tags": []
   },
   "source": [
    "## Optimal Control"
   ]
  },
  {
   "cell_type": "code",
   "execution_count": 27,
   "metadata": {},
   "outputs": [],
   "source": [
    "import control.optimal as obc\n",
    "from control import flatsys"
   ]
  },
  {
   "cell_type": "markdown",
   "metadata": {},
   "source": [
    "Consider the following optimal control problem:"
   ]
  },
  {
   "cell_type": "markdown",
   "metadata": {},
   "source": [
    "Find the control that optimizes the following objective (cost): $\\min_{u(t)} \\int_{t_0}^{t_f} L(x,u)dt $"
   ]
  },
  {
   "cell_type": "markdown",
   "metadata": {},
   "source": [
    "subject to the dynamic constraints: $\\dot{x}=f(x,u)$"
   ]
  },
  {
   "cell_type": "markdown",
   "metadata": {},
   "source": [
    "and any additional constraints: $lb_i \\leq g_i(x,u) \\leq ub_i$ "
   ]
  },
  {
   "cell_type": "markdown",
   "metadata": {},
   "source": [
    "This optimal control problem can be solved using the `obc.solve_ocp(sys,horizon,X0,cost,constraints)` function"
   ]
  },
  {
   "cell_type": "markdown",
   "metadata": {},
   "source": [
    "### Brachistochrone Problem"
   ]
  },
  {
   "cell_type": "markdown",
   "metadata": {},
   "source": [
    "$\\min t_f$"
   ]
  },
  {
   "cell_type": "markdown",
   "metadata": {},
   "source": [
    "subject to $\\dot{x}=v\\sin u, \\quad (x(0),x(t_f))=(0,2) \\\\ \\dot{y}=v\\cos u, \\quad (y(0),y(t_f))=(0,2) \\\\ \\dot{v}=g\\cos u, \\quad (v(0),v(t_f))=(0,Free)$"
   ]
  },
  {
   "cell_type": "markdown",
   "metadata": {},
   "source": [
    "`sys` parameter is an `InputOutputSystem` object"
   ]
  },
  {
   "cell_type": "code",
   "execution_count": 28,
   "metadata": {},
   "outputs": [
    {
     "data": {
      "text/plain": [
       "<NonlinearIOSystem:brachistochrone:['th', 'tf']->['x', 'y', 'v', 't']>"
      ]
     },
     "execution_count": 28,
     "metadata": {},
     "output_type": "execute_result"
    }
   ],
   "source": [
    "def model_update(t, z, u, params):\n",
    "    g = params.get('g',10.)\n",
    "    \n",
    "    # Define state variables\n",
    "    x = z[0]\n",
    "    y = z[1]\n",
    "    v = z[2]\n",
    "    t = z[3] # include t as a state since the transformed problem is on [0,1]\n",
    "    \n",
    "    # Define control variables\n",
    "    th = u[0]\n",
    "    tf = u[1] # tf is included as a control variable since the final time is unknown\n",
    "    \n",
    "    xdot = (v * np.sin(u[0])) * tf\n",
    "    ydot = (v * np.cos(u[0])) * tf\n",
    "    vdot = (g * np.cos(u[0])) * tf\n",
    "    tdot = tf\n",
    "    \n",
    "    return np.array([xdot, ydot, vdot, tdot])\n",
    "\n",
    "def model_output(t, z, u, params):\n",
    "    return z\n",
    "    \n",
    "model = ct.NonlinearIOSystem(model_update, model_output,\n",
    "                             states=4, name='brachistochrone',\n",
    "                             inputs=('th','tf'), outputs=('x','y','v','t'))\n",
    "model"
   ]
  },
  {
   "cell_type": "markdown",
   "metadata": {},
   "source": [
    "`obc.quadratic_cost` used to create a quadratic cost function: $\\int (\\mathbf{x}^T \\mathbf{Qx} + \\mathbf{u}^T \\mathbf{Ru})dt$ "
   ]
  },
  {
   "cell_type": "code",
   "execution_count": 29,
   "metadata": {},
   "outputs": [
    {
     "data": {
      "text/plain": [
       "<function control.optimal.quadratic_cost.<locals>.<lambda>(x, u)>"
      ]
     },
     "execution_count": 29,
     "metadata": {},
     "output_type": "execute_result"
    }
   ],
   "source": [
    "Q = np.diag(np.zeros(4))\n",
    "R = np.diag(np.zeros(2))\n",
    "\n",
    "traj_cost = obc.quadratic_cost(model, Q, R)\n",
    "traj_cost"
   ]
  },
  {
   "cell_type": "markdown",
   "metadata": {},
   "source": [
    "Cost functions can also be defined with a user-defined function, called as `cost_function(x,u)`"
   ]
  },
  {
   "cell_type": "code",
   "execution_count": 30,
   "metadata": {},
   "outputs": [],
   "source": [
    "term_cost = lambda z, u: z[3] # tf"
   ]
  },
  {
   "cell_type": "markdown",
   "metadata": {},
   "source": [
    "Next we define our problem bounds. It is best practice to provide bounds for all variables."
   ]
  },
  {
   "cell_type": "code",
   "execution_count": 31,
   "metadata": {},
   "outputs": [],
   "source": [
    "# Define problem bounds\n",
    "x0 = 0.; xf = 2.\n",
    "y0 = 0.; yf = 2.\n",
    "v0 = 0.; vf = None\n",
    "t0 = 0.; tf = None\n",
    "\n",
    "xlb = -10.; xub = 10.\n",
    "ylb = -10.; yub = 10.\n",
    "vlb = -10.; vub = 10.\n",
    "tlb = 0.;   tub = 10.\n",
    "\n",
    "thlb = 0.; thub = 10.\n",
    "tflb = 0.; tfub = 10.\n",
    "\n",
    "z0 = [x0, y0, v0, t0]"
   ]
  },
  {
   "cell_type": "markdown",
   "metadata": {},
   "source": [
    "Next we define our constraints. The `optimal` module provides several functions for this, such as `input_range_constraint()` and `state_range_constraint`, but constraints can also be made with user-defined functions. The syntax is `(scipy.optimize.LinearConstraint,A,lb,ub)` or `(scipy.optimize.NonlinearConstraint,fun,lb,ub)`. The constraints are then passed as a list of tuples."
   ]
  },
  {
   "cell_type": "code",
   "execution_count": 32,
   "metadata": {},
   "outputs": [
    {
     "data": {
      "text/plain": [
       "[(scipy.optimize._constraints.LinearConstraint,\n",
       "  array([[0., 0., 0., 0., 1., 0.],\n",
       "         [0., 0., 0., 0., 0., 1.]]),\n",
       "  array([0., 0.]),\n",
       "  array([10., 10.])),\n",
       " (scipy.optimize._constraints.LinearConstraint,\n",
       "  array([[1., 0., 0., 0., 0., 0.],\n",
       "         [0., 1., 0., 0., 0., 0.],\n",
       "         [0., 0., 1., 0., 0., 0.],\n",
       "         [0., 0., 0., 1., 0., 0.]]),\n",
       "  array([-10., -10., -10.,   0.]),\n",
       "  array([10., 10., 10., 10.]))]"
      ]
     },
     "execution_count": 32,
     "metadata": {},
     "output_type": "execute_result"
    }
   ],
   "source": [
    "input_bounds = obc.input_range_constraint(model, [thlb,tflb], [thub,tfub])\n",
    "state_bounds = obc.state_range_constraint(model, [xlb,ylb,vlb,tlb], [xub,yub,vub,tub])\n",
    "\n",
    "traj_constraints = [ input_bounds, state_bounds ]\n",
    "traj_constraints"
   ]
  },
  {
   "cell_type": "code",
   "execution_count": 33,
   "metadata": {},
   "outputs": [
    {
     "data": {
      "text/plain": [
       "[(scipy.optimize._constraints.LinearConstraint,\n",
       "  array([[1., 0., 0., 0., 0., 0.],\n",
       "         [0., 1., 0., 0., 0., 0.],\n",
       "         [0., 0., 1., 0., 0., 0.],\n",
       "         [0., 0., 0., 1., 0., 0.]]),\n",
       "  array([  2.,   2., -10.,   0.]),\n",
       "  array([ 2.,  2., 10., 10.])),\n",
       " (scipy.optimize._constraints.NonlinearConstraint,\n",
       "  <function __main__.<lambda>(z, u)>,\n",
       "  0.0,\n",
       "  0.0)]"
      ]
     },
     "execution_count": 33,
     "metadata": {},
     "output_type": "execute_result"
    }
   ],
   "source": [
    "from scipy.optimize import NonlinearConstraint\n",
    "\n",
    "term_state = obc.state_range_constraint(model, [xf,yf,vlb,tlb], [xf,yf,vub,tub]) # xf and yf are fixed, vf is free, and tf is unknown\n",
    "\n",
    "term_time = (NonlinearConstraint, lambda z,u: z[3] - u[1], 0.,0.) # Constraining the tf state variable with the tf control variable\n",
    "\n",
    "term_constraints = [ term_state, term_time ]\n",
    "term_constraints"
   ]
  },
  {
   "cell_type": "markdown",
   "metadata": {},
   "source": [
    "Define the horizon over which to solve the problem. For this problem, we transformed the original time horizon from $[t_0,t_f]$ to $[0,1]$."
   ]
  },
  {
   "cell_type": "code",
   "execution_count": 34,
   "metadata": {},
   "outputs": [],
   "source": [
    "horizon = np.linspace(0, 1, 10, endpoint=True)"
   ]
  },
  {
   "cell_type": "markdown",
   "metadata": {},
   "source": [
    "Finally, we can call `solve_ocp` to solve our optimal control problem."
   ]
  },
  {
   "cell_type": "code",
   "execution_count": 35,
   "metadata": {},
   "outputs": [
    {
     "name": "stderr",
     "output_type": "stream",
     "text": [
      "/opt/anaconda3/lib/python3.8/site-packages/scipy/optimize/_constraints.py:524: OptimizeWarning: Equality and inequality constraints are specified in the same element of the constraint list. For efficient use with this method, equality and inequality constraints should be specified in separate elements of the constraint list. \n",
      "  warn(\"Equality and inequality constraints are specified in the same \"\n"
     ]
    },
    {
     "name": "stdout",
     "output_type": "stream",
     "text": [
      "Summary statistics:\n",
      "* Cost function calls: 2271\n",
      "* Constraint calls: 4765\n",
      "* Eqconst calls: 2393\n",
      "* System simulations: 8613\n",
      "* Final cost: 0.81706279145248\n",
      "CPU times: user 37.1 s, sys: 68.6 ms, total: 37.2 s\n",
      "Wall time: 37.2 s\n"
     ]
    },
    {
     "name": "stderr",
     "output_type": "stream",
     "text": [
      "/opt/anaconda3/lib/python3.8/site-packages/control/optimal.py:862: UserWarning: unable to solve optimal control problem\n",
      "scipy.optimize.minimize returned Iteration limit reached\n",
      "  warnings.warn(\n"
     ]
    }
   ],
   "source": [
    "%%time\n",
    "\n",
    "result = obc.solve_ocp(model, horizon, z0, \n",
    "                       cost=traj_cost, terminal_cost=term_cost, \n",
    "                       trajectory_constraints=traj_constraints,\n",
    "                       terminal_constraints=term_constraints,\n",
    "                       initial_guess=[1.,1.])"
   ]
  },
  {
   "cell_type": "markdown",
   "metadata": {},
   "source": [
    "Note: The above function call may be unable to solve the optimal control problem."
   ]
  },
  {
   "cell_type": "markdown",
   "metadata": {},
   "source": [
    "As a blackbox function, `optimal` does not require much understanding of optimal control to pose an optimal control problem. However, it also offers very little customization of the numerical methods used to solve the problem. Therefore, it can be difficult to achieve convergence, as noted in the documentation. Some tips for trying to achieve convergence:\n",
    "- Try using a smaller number of time points in your horizon (prevents the problem from growing too large)\n",
    "- Use smooth basis functions (instead of the default which parameterizes the control at each time point)\n",
    "- Tweak the optimizer options (see `scipy.optimize.minimize()` for accepted kwargs)"
   ]
  },
  {
   "cell_type": "code",
   "execution_count": 36,
   "metadata": {},
   "outputs": [
    {
     "name": "stdout",
     "output_type": "stream",
     "text": [
      "Summary statistics:\n",
      "* Cost function calls: 781\n",
      "* Constraint calls: 1685\n",
      "* Eqconst calls: 845\n",
      "* System simulations: 1661\n",
      "* Final cost: 0.8164701258850586\n",
      "CPU times: user 5.36 s, sys: 12.9 ms, total: 5.38 s\n",
      "Wall time: 5.38 s\n"
     ]
    }
   ],
   "source": [
    "%%time\n",
    "\n",
    "result = obc.solve_ocp(model, horizon, z0, \n",
    "                       cost=traj_cost, terminal_cost=term_cost, \n",
    "                       trajectory_constraints=traj_constraints,\n",
    "                       terminal_constraints=term_constraints,\n",
    "                       initial_guess=[1.,1.],\n",
    "                       basis=flatsys.PolyFamily(2), # use smooth basis of polynomials\n",
    "                       minimize_method='SLSQP', # change optimizer method\n",
    "                       minimize_options={'eps': 0.1}) # change optimizer step size"
   ]
  },
  {
   "cell_type": "markdown",
   "metadata": {},
   "source": [
    "Use `ct.input_output_response()` to resample the result on a denser grid for visualization."
   ]
  },
  {
   "cell_type": "code",
   "execution_count": 37,
   "metadata": {},
   "outputs": [
    {
     "data": {
      "image/png": "[encoded data removed]",
      "text/plain": [
       "<Figure size 800x400 with 2 Axes>"
      ]
     },
     "metadata": {},
     "output_type": "display_data"
    }
   ],
   "source": [
    "resp = ct.input_output_response(model, horizon, result.inputs, z0,\n",
    "                                t_eval=np.linspace(0, 1, 1000)) # Resample our result using a denser grid\n",
    "t, z, u = resp.time, resp.outputs, resp.inputs\n",
    "\n",
    "t = z[3] \n",
    "\n",
    "fig, axs = plt.subplots(1, 2, figsize=(8,4), layout='constrained')\n",
    "axs[0].plot(t, z[0],label=r'$x$')\n",
    "axs[0].plot(t, z[1],label=r'$y$')\n",
    "axs[0].plot(t, z[2],label=r'$v$')\n",
    "axs[0].set_xlabel(\"t\")\n",
    "axs[0].set_ylabel(\"state\")\n",
    "axs[0].legend()\n",
    "\n",
    "axs[1].plot(t, u[0],label=r'$u$')\n",
    "axs[1].set_xlabel(\"t\")\n",
    "axs[1].set_ylabel(\"u\")\n",
    "\n",
    "for ax in axs:\n",
    "    ax.set_xlim(0)\n",
    "    ax.set_ylim(0)\n",
    "    ax.grid(True)"
   ]
  },
  {
   "cell_type": "markdown",
   "metadata": {},
   "source": [
    "This is indeed the expected optimal solution to the Brachistochrone problem."
   ]
  }
 ],
 "metadata": {
  "kernelspec": {
   "display_name": "Python 3 (ipykernel)",
   "language": "python",
   "name": "python3"
  },
  "language_info": {
   "codemirror_mode": {
    "name": "ipython",
    "version": 3
   },
   "file_extension": ".py",
   "mimetype": "text/x-python",
   "name": "python",
   "nbconvert_exporter": "python",
   "pygments_lexer": "ipython3",
   "version": "3.8.13"
  }
 },
 "nbformat": 4,
 "nbformat_minor": 4
}
