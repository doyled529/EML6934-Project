{
 "cells": [
  {
   "cell_type": "markdown",
   "metadata": {},
   "source": [
    "# Python Control Module"
   ]
  },
  {
   "cell_type": "markdown",
   "metadata": {},
   "source": [
    "The `python-control` package is a set of python classes and functions that implement common operations for the analysis and design of feedback control systems.\n",
    "\n",
    "https://python-control.readthedocs.io/en/0.9.2/intro.html"
   ]
  },
  {
   "cell_type": "code",
   "execution_count": null,
   "metadata": {},
   "outputs": [],
   "source": [
    "import control as ct\n",
    "import numpy as np\n",
    "import matplotlib.pyplot as plt"
   ]
  },
  {
   "cell_type": "markdown",
   "metadata": {},
   "source": [
    "## State Space Models"
   ]
  },
  {
   "cell_type": "markdown",
   "metadata": {},
   "source": [
    "The function ss creates a state space model of the system. A continuous linear time-invariant (LTI) system will be used for this example. When you print the system, you will recieve an output that states the type of system, number of inputs/outputs, number of states, and the values of the variables (A, B, C, D) in the system. "
   ]
  },
  {
   "cell_type": "code",
   "execution_count": null,
   "metadata": {},
   "outputs": [],
   "source": [
    "A = -4\n",
    "B = 3\n",
    "C = 1\n",
    "D = 0\n",
    "sys = ct.ss(A, B, C, D)\n",
    "print(sys)"
   ]
  },
  {
   "cell_type": "markdown",
   "metadata": {},
   "source": [
    "You can also simply type the name of the system to display it in matrix form."
   ]
  },
  {
   "cell_type": "code",
   "execution_count": null,
   "metadata": {},
   "outputs": [],
   "source": [
    "sys"
   ]
  },
  {
   "cell_type": "markdown",
   "metadata": {},
   "source": [
    "## Transfer Functions"
   ]
  },
  {
   "cell_type": "markdown",
   "metadata": {},
   "source": [
    "Creating a transfer function can be accomplished by first defining the constant s using the following command"
   ]
  },
  {
   "cell_type": "code",
   "execution_count": null,
   "metadata": {},
   "outputs": [],
   "source": [
    "s = ct.TransferFunction.s\n",
    "s"
   ]
  },
  {
   "cell_type": "markdown",
   "metadata": {},
   "source": [
    "This can then be utilized to define a transfer function G(s)"
   ]
  },
  {
   "cell_type": "code",
   "execution_count": null,
   "metadata": {},
   "outputs": [],
   "source": [
    "G  = (s + 1)/(s**2 + 2*s + 1)\n",
    "G"
   ]
  },
  {
   "cell_type": "markdown",
   "metadata": {},
   "source": [
    "For single input single output (SISO) systems, the transfer function of a simple system can be defined using the TransferFunction command and specifying the coefficients of the numerator and denominator. "
   ]
  },
  {
   "cell_type": "code",
   "execution_count": null,
   "metadata": {},
   "outputs": [],
   "source": [
    "TF = ct.TransferFunction([2,2], [1, 2, 3])\n",
    "TF"
   ]
  },
  {
   "cell_type": "markdown",
   "metadata": {},
   "source": [
    "## Controlability and Observability Matrices"
   ]
  },
  {
   "cell_type": "markdown",
   "metadata": {},
   "source": [
    "This module has built in functions to easily determine the controllability and observability matrices of a system using the functions ct.ctrb and ct.obs. "
   ]
  },
  {
   "cell_type": "code",
   "execution_count": null,
   "metadata": {},
   "outputs": [],
   "source": [
    "controllability = ct.ctrb(A, B)\n",
    "controllability"
   ]
  },
  {
   "cell_type": "code",
   "execution_count": null,
   "metadata": {},
   "outputs": [],
   "source": [
    "observability = ct.obsv(A, C)\n",
    "observability"
   ]
  },
  {
   "cell_type": "markdown",
   "metadata": {},
   "source": [
    "## Controllability and Observability Gramians"
   ]
  },
  {
   "cell_type": "markdown",
   "metadata": {},
   "source": [
    "The controllability or observability Gramian can be found using the ct.gram function specifiying the system and type (controllability or observability) of Gramian desired. It is important to note here that using a transfer function model will result in a ValueError as seen below."
   ]
  },
  {
   "cell_type": "code",
   "execution_count": null,
   "metadata": {},
   "outputs": [],
   "source": [
    "ct.gram(G, 'c')"
   ]
  },
  {
   "cell_type": "markdown",
   "metadata": {},
   "source": [
    "The gramian function will only take a state space respresentation of the model. Furthermore, the system must be stable in order for the Gramian to be computed as seen in the value error below."
   ]
  },
  {
   "cell_type": "code",
   "execution_count": null,
   "metadata": {},
   "outputs": [],
   "source": [
    "unstableSystem = ct.ss(4, -3, 1, 0)\n",
    "ct.gram(unstableSystem,'c')"
   ]
  },
  {
   "cell_type": "markdown",
   "metadata": {},
   "source": [
    "Using the stable LTI system defined earlier, you can successfully compute both the controllability and observability Gramians."
   ]
  },
  {
   "cell_type": "code",
   "execution_count": null,
   "metadata": {},
   "outputs": [],
   "source": [
    "controllabilityGramian = ct.gram(sys, 'c')\n",
    "print(f'The controllability Gramian is: {controllabilityGramian}')"
   ]
  },
  {
   "cell_type": "code",
   "execution_count": null,
   "metadata": {},
   "outputs": [],
   "source": [
    "observabilityGramian = ct.gram(sys, 'o')\n",
    "print(f'The observability Gramian is: {observabilityGramian}')"
   ]
  },
  {
   "cell_type": "markdown",
   "metadata": {},
   "source": [
    "## Poles,  Zeros, and Gain"
   ]
  },
  {
   "cell_type": "markdown",
   "metadata": {},
   "source": [
    "The ct.poles and ct.zeros functions are used to determine the poles and zeros of the system. They can be used on both state space representations and transfer functions and return an array of the poles/zeros of the system."
   ]
  },
  {
   "cell_type": "code",
   "execution_count": null,
   "metadata": {},
   "outputs": [],
   "source": [
    "stateSpacePoles = ct.poles(sys)\n",
    "print(f'The poles of the state space system are {stateSpacePoles}')\n",
    "\n",
    "transferFunctionPoles = ct.poles(G)\n",
    "print(f'\\nThe poles of the transfer function G are {transferFunctionPoles}')"
   ]
  },
  {
   "cell_type": "code",
   "execution_count": null,
   "metadata": {},
   "outputs": [],
   "source": [
    "stateSpaceZeros = ct.zeros(sys)\n",
    "print(f'The zeros of the state space system are {stateSpaceZeros}')\n",
    "\n",
    "transferFunctionZeros = ct.zeros(G)\n",
    "print(f'\\nThe zeros of the transfer function G are {transferFunctionZeros}')"
   ]
  },
  {
   "cell_type": "markdown",
   "metadata": {},
   "source": [
    "The DC gain of the system can also be found using the ct.dcgaini command. Here we will multiply our transfer function G by a gain of 5 to highlight this."
   ]
  },
  {
   "cell_type": "code",
   "execution_count": null,
   "metadata": {},
   "outputs": [],
   "source": [
    "k = 5 # DC gain \n",
    "G = k * (s + 1)/(s**2 + 2*s + 1)\n",
    "gain = ct.dcgain(G)\n",
    "print(f'The DC gain of the system is {gain}')"
   ]
  },
  {
   "cell_type": "markdown",
   "metadata": {},
   "source": [
    "## Block Diagrams"
   ]
  },
  {
   "cell_type": "markdown",
   "metadata": {},
   "source": [
    "### Series Interconnection "
   ]
  },
  {
   "cell_type": "markdown",
   "metadata": {},
   "source": [
    "The series command returns the series connection of two systems sys3=sys1 * sys2."
   ]
  },
  {
   "cell_type": "code",
   "execution_count": null,
   "metadata": {},
   "outputs": [],
   "source": [
    "H = (s + 2)/(s + 1)\n",
    "series = ct.series(G, H)\n",
    "series"
   ]
  },
  {
   "cell_type": "markdown",
   "metadata": {},
   "source": [
    "### Paralllel Interconnection"
   ]
  },
  {
   "cell_type": "markdown",
   "metadata": {},
   "source": [
    "The parallel command returns the parallel connection of two systems equivalent to sys3=sys1+sys2."
   ]
  },
  {
   "cell_type": "code",
   "execution_count": null,
   "metadata": {},
   "outputs": [],
   "source": [
    "parallel = ct.parallel(G, H)\n",
    "parallel"
   ]
  },
  {
   "cell_type": "markdown",
   "metadata": {},
   "source": [
    "### Feedback Interconnection"
   ]
  },
  {
   "cell_type": "markdown",
   "metadata": {},
   "source": [
    "The feedback command gives the feedback interconnection between two I/O systems. The primary plant is sys1. The feedback plant is sys2 (often a feedback controller)."
   ]
  },
  {
   "cell_type": "code",
   "execution_count": null,
   "metadata": {},
   "outputs": [],
   "source": [
    "feedback = ct.feedback(G, H, sign=-1) #the default is sign=-1 which is negative feedback\n",
    "feedback"
   ]
  },
  {
   "cell_type": "markdown",
   "metadata": {},
   "source": [
    "## Frequency Domain Plotting"
   ]
  },
  {
   "cell_type": "markdown",
   "metadata": {},
   "source": [
    "### Bode Plot"
   ]
  },
  {
   "cell_type": "markdown",
   "metadata": {},
   "source": [
    "The bode plot of the system can be plotted over a (optional) frequency range using the ct.bode command. It returns the magnitude ratio, phase lag, and frequency as well as the bode plot for a given transfer function."
   ]
  },
  {
   "cell_type": "code",
   "execution_count": null,
   "metadata": {},
   "outputs": [],
   "source": [
    "mag, phase, omega = ct.bode(G)"
   ]
  },
  {
   "cell_type": "markdown",
   "metadata": {},
   "source": [
    "The bode plot can be customized with several options including setting the x axis to units of Hz or changing the phase from degrees to radians."
   ]
  },
  {
   "cell_type": "code",
   "execution_count": null,
   "metadata": {},
   "outputs": [],
   "source": [
    "mag, phase, omega = ct.bode(G, Hz=True, deg=False)"
   ]
  },
  {
   "cell_type": "markdown",
   "metadata": {},
   "source": [
    "The freqresp command outputs the same information but does not plot it."
   ]
  },
  {
   "cell_type": "code",
   "execution_count": null,
   "metadata": {},
   "outputs": [],
   "source": [
    "w=np.linspace(0.1, 10, 30)\n",
    "mag, phase, omega = ct.freqresp(G, w)"
   ]
  },
  {
   "cell_type": "code",
   "execution_count": null,
   "metadata": {},
   "outputs": [],
   "source": [
    "mag"
   ]
  },
  {
   "cell_type": "markdown",
   "metadata": {},
   "source": [
    "### Nyquist Plot"
   ]
  },
  {
   "cell_type": "markdown",
   "metadata": {},
   "source": [
    "The Nyquist plot for the system can also be plotted over an (optional) frequency range."
   ]
  },
  {
   "cell_type": "code",
   "execution_count": null,
   "metadata": {},
   "outputs": [],
   "source": [
    "ct.nyquist_plot(G)"
   ]
  },
  {
   "cell_type": "markdown",
   "metadata": {},
   "source": [
    "## Time Domain Simulation"
   ]
  },
  {
   "cell_type": "markdown",
   "metadata": {},
   "source": [
    "### Forced Response"
   ]
  },
  {
   "cell_type": "markdown",
   "metadata": {},
   "source": [
    "The ct.forced_response command simulates the output of a linear system. "
   ]
  },
  {
   "cell_type": "code",
   "execution_count": null,
   "metadata": {},
   "outputs": [],
   "source": [
    "T=np.linspace(0, 10, 100)\n",
    "u=2\n",
    "X0=0 #if left blank, defaults to 0\n",
    "forced_T, forced_yout = ct.forced_response(G, T, u, X0)\n",
    "plt.plot(forced_T, forced_yout)"
   ]
  },
  {
   "cell_type": "markdown",
   "metadata": {},
   "source": [
    "### Impulse Response"
   ]
  },
  {
   "cell_type": "markdown",
   "metadata": {},
   "source": [
    "The ct.initial_response command gives the response of a linear system given initial conditions. If the system has multiple outputs, one may be selected, or if no selection is made, all outputs are given. Similar to forced response but with zero input."
   ]
  },
  {
   "cell_type": "code",
   "execution_count": null,
   "metadata": {},
   "outputs": [],
   "source": [
    "impulse_T, impulse_yout = ct.initial_response(G, T, X0) #yout is the response output\n",
    "plt.plot(impulse_T, impulse_yout)"
   ]
  },
  {
   "cell_type": "markdown",
   "metadata": {},
   "source": [
    "### Step Response"
   ]
  },
  {
   "cell_type": "code",
   "execution_count": null,
   "metadata": {},
   "outputs": [],
   "source": [
    "step_T, step_yout = ct.step_response(G, T, X0)\n",
    "plt.plot(step_T, step_yout)"
   ]
  },
  {
   "cell_type": "markdown",
   "metadata": {
    "tags": []
   },
   "source": [
    "# Optimal Control"
   ]
  },
  {
   "cell_type": "code",
   "execution_count": null,
   "metadata": {},
   "outputs": [],
   "source": [
    "import control.optimal as obc\n",
    "from control import flatsys"
   ]
  },
  {
   "cell_type": "markdown",
   "metadata": {},
   "source": [
    "Consider the following optimal control problem:"
   ]
  },
  {
   "cell_type": "markdown",
   "metadata": {},
   "source": [
    "Find the control that optimizes the following objective (cost): $\\min_{u(t)} \\int_{t_0}^{t_f} L(x,u)dt $"
   ]
  },
  {
   "cell_type": "markdown",
   "metadata": {},
   "source": [
    "subject to the dynamic constraints: $\\dot{x}=f(x,u)$"
   ]
  },
  {
   "cell_type": "markdown",
   "metadata": {},
   "source": [
    "and any additional constraints: $lb_i \\leq g_i(x,u) \\leq ub_i$ "
   ]
  },
  {
   "cell_type": "markdown",
   "metadata": {},
   "source": [
    "This optimal control problem can be solved using the `obc.solve_ocp(sys,horizon,X0,cost,constraints)` function"
   ]
  },
  {
   "cell_type": "markdown",
   "metadata": {},
   "source": [
    "## Brachistochrone Problem"
   ]
  },
  {
   "cell_type": "markdown",
   "metadata": {},
   "source": [
    "$\\min t_f$"
   ]
  },
  {
   "cell_type": "markdown",
   "metadata": {},
   "source": [
    "subject to $\\dot{x}=v\\sin u, \\quad (x(0),x(t_f))=(0,2) \\\\ \\dot{y}=v\\cos u, \\quad (y(0),y(t_f))=(0,2) \\\\ \\dot{v}=g\\cos u, \\quad (v(0),v(t_f))=(0,Free)$"
   ]
  },
  {
   "cell_type": "markdown",
   "metadata": {},
   "source": [
    "`sys` parameter is an `InputOutputSystem` object"
   ]
  },
  {
   "cell_type": "code",
   "execution_count": null,
   "metadata": {},
   "outputs": [],
   "source": [
    "def model_update(t, z, u, params):\n",
    "    g = params.get('g',10.)\n",
    "    \n",
    "    # Define state variables\n",
    "    x = z[0]\n",
    "    y = z[1]\n",
    "    v = z[2]\n",
    "    t = z[3] # include t as a state since the transformed problem is on [0,1]\n",
    "    \n",
    "    # Define control variables\n",
    "    th = u[0]\n",
    "    tf = u[1] # tf is included as a control variable since the final time is unknown\n",
    "    \n",
    "    xdot = (v * np.sin(u[0])) * tf\n",
    "    ydot = (v * np.cos(u[0])) * tf\n",
    "    vdot = (g * np.cos(u[0])) * tf\n",
    "    tdot = tf\n",
    "    \n",
    "    return np.array([xdot, ydot, vdot, tdot])\n",
    "\n",
    "def model_output(t, z, u, params):\n",
    "    return z\n",
    "    \n",
    "model = ct.NonlinearIOSystem(model_update, model_output,\n",
    "                             states=4, name='brachistochrone',\n",
    "                             inputs=('th','tf'), outputs=('x','y','v','t'))\n",
    "model"
   ]
  },
  {
   "cell_type": "markdown",
   "metadata": {},
   "source": [
    "`obc.quadratic_cost` used to create a quadratic cost function: $\\int (\\mathbf{x}^T \\mathbf{Qx} + \\mathbf{u}^T \\mathbf{Ru})dt$ "
   ]
  },
  {
   "cell_type": "code",
   "execution_count": null,
   "metadata": {},
   "outputs": [],
   "source": [
    "Q = np.diag(np.zeros(4))\n",
    "R = np.diag(np.zeros(2))\n",
    "\n",
    "traj_cost = obc.quadratic_cost(model, Q, R)\n",
    "traj_cost"
   ]
  },
  {
   "cell_type": "markdown",
   "metadata": {},
   "source": [
    "Cost functions can also be defined with a user-defined function, called as `cost_function(x,u)`"
   ]
  },
  {
   "cell_type": "code",
   "execution_count": null,
   "metadata": {},
   "outputs": [],
   "source": [
    "term_cost = lambda z, u: z[3] # tf"
   ]
  },
  {
   "cell_type": "markdown",
   "metadata": {},
   "source": [
    "Next we define our problem bounds. It is best practice to provide bounds for all variables."
   ]
  },
  {
   "cell_type": "code",
   "execution_count": null,
   "metadata": {},
   "outputs": [],
   "source": [
    "# Define problem bounds\n",
    "x0 = 0.; xf = 2.\n",
    "y0 = 0.; yf = 2.\n",
    "v0 = 0.; vf = None\n",
    "t0 = 0.; tf = None\n",
    "\n",
    "xlb = -10.; xub = 10.\n",
    "ylb = -10.; yub = 10.\n",
    "vlb = -10.; vub = 10.\n",
    "tlb = 0.;   tub = 10.\n",
    "\n",
    "thlb = 0.; thub = 10.\n",
    "tflb = 0.; tfub = 10.\n",
    "\n",
    "z0 = [x0, y0, v0, t0]"
   ]
  },
  {
   "cell_type": "markdown",
   "metadata": {},
   "source": [
    "Next we define our constraints. The `optimal` module provides several functions for this, such as `input_range_constraint()` and `state_range_constraint`, but constraints can also be made with user-defined functions. The syntax is `(scipy.optimize.LinearConstraint,A,lb,ub)` or `(scipy.optimize.NonlinearConstraint,fun,lb,ub)`. The constraints are then passed as a list of tuples."
   ]
  },
  {
   "cell_type": "code",
   "execution_count": null,
   "metadata": {},
   "outputs": [],
   "source": [
    "input_bounds = obc.input_range_constraint(model, [thlb,tflb], [thub,tfub])\n",
    "state_bounds = obc.state_range_constraint(model, [xlb,ylb,vlb,tlb], [xub,yub,vub,tub])\n",
    "\n",
    "traj_constraints = [ input_bounds, state_bounds ]\n",
    "traj_constraints"
   ]
  },
  {
   "cell_type": "code",
   "execution_count": null,
   "metadata": {},
   "outputs": [],
   "source": [
    "from scipy.optimize import NonlinearConstraint\n",
    "\n",
    "term_state = obc.state_range_constraint(model, [xf,yf,vlb,tlb], [xf,yf,vub,tub]) # xf and yf are fixed, vf is free, and tf is unknown\n",
    "\n",
    "term_time = (NonlinearConstraint, lambda z,u: z[3] - u[1], 0.,0.) # Constraining the tf state variable with the tf control variable\n",
    "\n",
    "term_constraints = [ term_state, term_time ]\n",
    "term_constraints"
   ]
  },
  {
   "cell_type": "markdown",
   "metadata": {},
   "source": [
    "Define the horizon over which to solve the problem. For this problem, we transformed the original time horizon from $[t_0,t_f]$ to $[0,1]$."
   ]
  },
  {
   "cell_type": "code",
   "execution_count": null,
   "metadata": {},
   "outputs": [],
   "source": [
    "horizon = np.linspace(0, 1, 10, endpoint=True)"
   ]
  },
  {
   "cell_type": "markdown",
   "metadata": {},
   "source": [
    "Finally, we can call `solve_ocp` to solve our optimal control problem."
   ]
  },
  {
   "cell_type": "code",
   "execution_count": null,
   "metadata": {},
   "outputs": [],
   "source": [
    "result = obc.solve_ocp(model, horizon, z0, \n",
    "                       cost=traj_cost, terminal_cost=term_cost, \n",
    "                       trajectory_constraints=traj_constraints,\n",
    "                       terminal_constraints=term_constraints,\n",
    "                       initial_guess=[1.,1.])"
   ]
  },
  {
   "cell_type": "markdown",
   "metadata": {},
   "source": [
    "As a blackbox function, `optimal` does not require much understanding of optimal control to pose an optimal control problem. However, it also offers very little customization of the numerical methods used to solve the problem. Therefore, it can be difficult to achieve convergence, as noted in the documentation. Some tips for trying to achieve convergence:\n",
    "- Try using a smaller number of time points in your horizon (prevents the problem from growing too large)\n",
    "- Use smooth basis functions (instead of the default which parameterizes the control at each time point)\n",
    "- Tweak the optimizer options (see `scipy.optimize.minimize()` for accepted kwargs)"
   ]
  },
  {
   "cell_type": "code",
   "execution_count": null,
   "metadata": {},
   "outputs": [],
   "source": [
    "result = obc.solve_ocp(model, horizon, z0, \n",
    "                       cost=traj_cost, terminal_cost=term_cost, \n",
    "                       trajectory_constraints=traj_constraints,\n",
    "                       terminal_constraints=term_constraints,\n",
    "                       initial_guess=[1.,1.],\n",
    "                       basis=flatsys.PolyFamily(2),\n",
    "                       minimize_method='SLSQP',\n",
    "                       minimize_options={'eps': 0.1})"
   ]
  },
  {
   "cell_type": "code",
   "execution_count": null,
   "metadata": {},
   "outputs": [],
   "source": [
    "resp = ct.input_output_response(model, horizon, result.inputs, z0,\n",
    "                                t_eval=np.linspace(0, 1, 1000)) # Resample our result using a denser grid\n",
    "t, z, u = resp.time, resp.outputs, resp.inputs\n",
    "\n",
    "t = z[3] \n",
    "\n",
    "fig, axs = plt.subplots(1, 2, figsize=(8,4), layout='constrained')\n",
    "axs[0].plot(t, z[0],label=r'$x$')\n",
    "axs[0].plot(t, z[1],label=r'$y$')\n",
    "axs[0].plot(t, z[2],label=r'$v$')\n",
    "axs[0].set_xlabel(\"t\")\n",
    "axs[0].set_ylabel(\"state\")\n",
    "axs[0].legend()\n",
    "\n",
    "axs[1].plot(t, u[0],label=r'$u$')\n",
    "axs[1].set_xlabel(\"t\")\n",
    "axs[1].set_ylabel(\"u\")\n",
    "\n",
    "for ax in axs:\n",
    "    ax.set_xlim(0)\n",
    "    ax.set_ylim(0)\n",
    "    ax.grid(True)"
   ]
  },
  {
   "cell_type": "code",
   "execution_count": null,
   "metadata": {},
   "outputs": [],
   "source": []
  }
 ],
 "metadata": {
  "kernelspec": {
   "display_name": "Python 3 (ipykernel)",
   "language": "python",
   "name": "python3"
  },
  "language_info": {
   "codemirror_mode": {
    "name": "ipython",
    "version": 3
   },
   "file_extension": ".py",
   "mimetype": "text/x-python",
   "name": "python",
   "nbconvert_exporter": "python",
   "pygments_lexer": "ipython3",
   "version": "3.8.13"
  }
 },
 "nbformat": 4,
 "nbformat_minor": 4
}
